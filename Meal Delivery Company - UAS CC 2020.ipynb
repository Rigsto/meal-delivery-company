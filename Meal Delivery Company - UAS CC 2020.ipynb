{
 "cells": [
  {
   "metadata": {
    "_uuid": "8f2839f25d086af736a60e9eeb907d3b93b6e0e5",
    "_cell_guid": "b1076dfc-b9ad-4769-8c92-a6c4dae69d19",
    "trusted": true
   },
   "cell_type": "code",
   "source": [
    "# This Python 3 environment comes with many helpful analytics libraries installed\n",
    "# It is defined by the kaggle/python Docker image: https://github.com/kaggle/docker-python\n",
    "# For example, here's several helpful packages to load\n",
    "\n",
    "import warnings\n",
    "warnings.filterwarnings('ignore')\n",
    "\n",
    "import numpy as np # linear algebra\n",
    "import pandas as pd # data processing, CSV file I/O (e.g. pd.read_csv)\n",
    "import matplotlib.pyplot as plt\n",
    "import seaborn as sns\n",
    "import lightgbm as lgbm\n",
    "import lightgbm as lgb\n",
    "import xgboost as xgb\n",
    "\n",
    "from sklearn.model_selection import KFold\n",
    "from sklearn import preprocessing\n",
    "from sklearn.metrics import r2_score\n",
    "\n",
    "plt.style.use('fivethirtyeight')\n",
    "\n",
    "# Input data files are available in the read-only \"../input/\" directory\n",
    "# For example, running this (by clicking run or pressing Shift+Enter) will list all files under the input directory\n",
    "\n",
    "import os\n",
    "for dirname, _, filenames in os.walk('/kaggle/input'):\n",
    "    for filename in filenames:\n",
    "        print(os.path.join(dirname, filename))\n",
    "\n",
    "# You can write up to 5GB to the current directory (/kaggle/working/) that gets preserved as output when you create a version using \"Save & Run All\" \n",
    "# You can also write temporary files to /kaggle/temp/, but they won't be saved outside of the current session"
   ],
   "execution_count": 1,
   "outputs": []
  },
  {
   "metadata": {},
   "cell_type": "markdown",
   "source": [
    "# Exploratory Data Analysis"
   ],
   "execution_count": null
  },
  {
   "metadata": {
    "_uuid": "d629ff2d2480ee46fbb7e2d37f6b5fab8052498a",
    "_cell_guid": "79c7e3d0-c299-4dcb-8224-4455121ee9b0",
    "trusted": true
   },
   "cell_type": "code",
   "source": [
    "data_train = pd.read_csv('kaggle/input/av-genpact-hack-dec2018/train.csv')\n",
    "data_test = pd.read_csv('kaggle/input/av-genpact-hack-dec2018/test.csv')\n",
    "data_meal = pd.read_csv('kaggle/input/av-genpact-hack-dec2018/meal_info.csv')\n",
    "data_center = pd.read_csv('kaggle/input/av-genpact-hack-dec2018/fulfilment_center_info.csv')\n",
    "\n",
    "data_train.head()"
   ],
   "execution_count": 2,
   "outputs": [
    {
     "data": {
      "text/plain": "        id  week  center_id  meal_id  checkout_price  base_price  \\\n0  1379560     1         55     1885          136.83      152.29   \n1  1466964     1         55     1993          136.83      135.83   \n2  1346989     1         55     2539          134.86      135.86   \n3  1338232     1         55     2139          339.50      437.53   \n4  1448490     1         55     2631          243.50      242.50   \n\n   emailer_for_promotion  homepage_featured  num_orders  \n0                      0                  0         177  \n1                      0                  0         270  \n2                      0                  0         189  \n3                      0                  0          54  \n4                      0                  0          40  ",
      "text/html": "<div>\n<style scoped>\n    .dataframe tbody tr th:only-of-type {\n        vertical-align: middle;\n    }\n\n    .dataframe tbody tr th {\n        vertical-align: top;\n    }\n\n    .dataframe thead th {\n        text-align: right;\n    }\n</style>\n<table border=\"1\" class=\"dataframe\">\n  <thead>\n    <tr style=\"text-align: right;\">\n      <th></th>\n      <th>id</th>\n      <th>week</th>\n      <th>center_id</th>\n      <th>meal_id</th>\n      <th>checkout_price</th>\n      <th>base_price</th>\n      <th>emailer_for_promotion</th>\n      <th>homepage_featured</th>\n      <th>num_orders</th>\n    </tr>\n  </thead>\n  <tbody>\n    <tr>\n      <td>0</td>\n      <td>1379560</td>\n      <td>1</td>\n      <td>55</td>\n      <td>1885</td>\n      <td>136.83</td>\n      <td>152.29</td>\n      <td>0</td>\n      <td>0</td>\n      <td>177</td>\n    </tr>\n    <tr>\n      <td>1</td>\n      <td>1466964</td>\n      <td>1</td>\n      <td>55</td>\n      <td>1993</td>\n      <td>136.83</td>\n      <td>135.83</td>\n      <td>0</td>\n      <td>0</td>\n      <td>270</td>\n    </tr>\n    <tr>\n      <td>2</td>\n      <td>1346989</td>\n      <td>1</td>\n      <td>55</td>\n      <td>2539</td>\n      <td>134.86</td>\n      <td>135.86</td>\n      <td>0</td>\n      <td>0</td>\n      <td>189</td>\n    </tr>\n    <tr>\n      <td>3</td>\n      <td>1338232</td>\n      <td>1</td>\n      <td>55</td>\n      <td>2139</td>\n      <td>339.50</td>\n      <td>437.53</td>\n      <td>0</td>\n      <td>0</td>\n      <td>54</td>\n    </tr>\n    <tr>\n      <td>4</td>\n      <td>1448490</td>\n      <td>1</td>\n      <td>55</td>\n      <td>2631</td>\n      <td>243.50</td>\n      <td>242.50</td>\n      <td>0</td>\n      <td>0</td>\n      <td>40</td>\n    </tr>\n  </tbody>\n</table>\n</div>"
     },
     "execution_count": 2,
     "metadata": {},
     "output_type": "execute_result"
    }
   ]
  },
  {
   "metadata": {},
   "cell_type": "markdown",
   "source": [
    "### Merge DataFrames"
   ],
   "execution_count": null
  },
  {
   "metadata": {
    "trusted": true
   },
   "cell_type": "code",
   "source": [
    "data_train = data_train.merge(data_meal)\n",
    "data_train = data_train.merge(data_center)\n",
    "data_train.head()"
   ],
   "execution_count": 3,
   "outputs": [
    {
     "data": {
      "text/plain": "        id  week  center_id  meal_id  checkout_price  base_price  \\\n0  1379560     1         55     1885          136.83      152.29   \n1  1018704     2         55     1885          135.83      152.29   \n2  1196273     3         55     1885          132.92      133.92   \n3  1116527     4         55     1885          135.86      134.86   \n4  1343872     5         55     1885          146.50      147.50   \n\n   emailer_for_promotion  homepage_featured  num_orders   category cuisine  \\\n0                      0                  0         177  Beverages    Thai   \n1                      0                  0         323  Beverages    Thai   \n2                      0                  0          96  Beverages    Thai   \n3                      0                  0         163  Beverages    Thai   \n4                      0                  0         215  Beverages    Thai   \n\n   city_code  region_code center_type  op_area  \n0        647           56      TYPE_C      2.0  \n1        647           56      TYPE_C      2.0  \n2        647           56      TYPE_C      2.0  \n3        647           56      TYPE_C      2.0  \n4        647           56      TYPE_C      2.0  ",
      "text/html": "<div>\n<style scoped>\n    .dataframe tbody tr th:only-of-type {\n        vertical-align: middle;\n    }\n\n    .dataframe tbody tr th {\n        vertical-align: top;\n    }\n\n    .dataframe thead th {\n        text-align: right;\n    }\n</style>\n<table border=\"1\" class=\"dataframe\">\n  <thead>\n    <tr style=\"text-align: right;\">\n      <th></th>\n      <th>id</th>\n      <th>week</th>\n      <th>center_id</th>\n      <th>meal_id</th>\n      <th>checkout_price</th>\n      <th>base_price</th>\n      <th>emailer_for_promotion</th>\n      <th>homepage_featured</th>\n      <th>num_orders</th>\n      <th>category</th>\n      <th>cuisine</th>\n      <th>city_code</th>\n      <th>region_code</th>\n      <th>center_type</th>\n      <th>op_area</th>\n    </tr>\n  </thead>\n  <tbody>\n    <tr>\n      <td>0</td>\n      <td>1379560</td>\n      <td>1</td>\n      <td>55</td>\n      <td>1885</td>\n      <td>136.83</td>\n      <td>152.29</td>\n      <td>0</td>\n      <td>0</td>\n      <td>177</td>\n      <td>Beverages</td>\n      <td>Thai</td>\n      <td>647</td>\n      <td>56</td>\n      <td>TYPE_C</td>\n      <td>2.0</td>\n    </tr>\n    <tr>\n      <td>1</td>\n      <td>1018704</td>\n      <td>2</td>\n      <td>55</td>\n      <td>1885</td>\n      <td>135.83</td>\n      <td>152.29</td>\n      <td>0</td>\n      <td>0</td>\n      <td>323</td>\n      <td>Beverages</td>\n      <td>Thai</td>\n      <td>647</td>\n      <td>56</td>\n      <td>TYPE_C</td>\n      <td>2.0</td>\n    </tr>\n    <tr>\n      <td>2</td>\n      <td>1196273</td>\n      <td>3</td>\n      <td>55</td>\n      <td>1885</td>\n      <td>132.92</td>\n      <td>133.92</td>\n      <td>0</td>\n      <td>0</td>\n      <td>96</td>\n      <td>Beverages</td>\n      <td>Thai</td>\n      <td>647</td>\n      <td>56</td>\n      <td>TYPE_C</td>\n      <td>2.0</td>\n    </tr>\n    <tr>\n      <td>3</td>\n      <td>1116527</td>\n      <td>4</td>\n      <td>55</td>\n      <td>1885</td>\n      <td>135.86</td>\n      <td>134.86</td>\n      <td>0</td>\n      <td>0</td>\n      <td>163</td>\n      <td>Beverages</td>\n      <td>Thai</td>\n      <td>647</td>\n      <td>56</td>\n      <td>TYPE_C</td>\n      <td>2.0</td>\n    </tr>\n    <tr>\n      <td>4</td>\n      <td>1343872</td>\n      <td>5</td>\n      <td>55</td>\n      <td>1885</td>\n      <td>146.50</td>\n      <td>147.50</td>\n      <td>0</td>\n      <td>0</td>\n      <td>215</td>\n      <td>Beverages</td>\n      <td>Thai</td>\n      <td>647</td>\n      <td>56</td>\n      <td>TYPE_C</td>\n      <td>2.0</td>\n    </tr>\n  </tbody>\n</table>\n</div>"
     },
     "execution_count": 3,
     "metadata": {},
     "output_type": "execute_result"
    }
   ]
  },
  {
   "metadata": {},
   "cell_type": "markdown",
   "source": [
    "### Num orders categorize"
   ],
   "execution_count": null
  },
  {
   "metadata": {
    "trusted": true
   },
   "cell_type": "code",
   "source": [
    "data_train['num_orders'].quantile([.33, .67, .9])"
   ],
   "execution_count": 4,
   "outputs": [
    {
     "data": {
      "text/plain": "0.33     69.0\n0.67    244.0\n0.90    609.0\nName: num_orders, dtype: float64"
     },
     "execution_count": 4,
     "metadata": {},
     "output_type": "execute_result"
    }
   ]
  },
  {
   "metadata": {
    "trusted": true
   },
   "cell_type": "code",
   "source": [
    "def no_cat(num):\n",
    "    if num < 136.0:\n",
    "        return 'Low'\n",
    "    elif num < 324.0:\n",
    "        return 'Medium'\n",
    "    elif num < 609.0:\n",
    "        return 'High'\n",
    "    else:\n",
    "        return 'Very High'\n",
    "    \n",
    "data_train['num_orders_cat'] = data_train['num_orders'].apply(no_cat)\n",
    "data_train.head()"
   ],
   "execution_count": 5,
   "outputs": [
    {
     "data": {
      "text/plain": "        id  week  center_id  meal_id  checkout_price  base_price  \\\n0  1379560     1         55     1885          136.83      152.29   \n1  1018704     2         55     1885          135.83      152.29   \n2  1196273     3         55     1885          132.92      133.92   \n3  1116527     4         55     1885          135.86      134.86   \n4  1343872     5         55     1885          146.50      147.50   \n\n   emailer_for_promotion  homepage_featured  num_orders   category cuisine  \\\n0                      0                  0         177  Beverages    Thai   \n1                      0                  0         323  Beverages    Thai   \n2                      0                  0          96  Beverages    Thai   \n3                      0                  0         163  Beverages    Thai   \n4                      0                  0         215  Beverages    Thai   \n\n   city_code  region_code center_type  op_area num_orders_cat  \n0        647           56      TYPE_C      2.0         Medium  \n1        647           56      TYPE_C      2.0         Medium  \n2        647           56      TYPE_C      2.0            Low  \n3        647           56      TYPE_C      2.0         Medium  \n4        647           56      TYPE_C      2.0         Medium  ",
      "text/html": "<div>\n<style scoped>\n    .dataframe tbody tr th:only-of-type {\n        vertical-align: middle;\n    }\n\n    .dataframe tbody tr th {\n        vertical-align: top;\n    }\n\n    .dataframe thead th {\n        text-align: right;\n    }\n</style>\n<table border=\"1\" class=\"dataframe\">\n  <thead>\n    <tr style=\"text-align: right;\">\n      <th></th>\n      <th>id</th>\n      <th>week</th>\n      <th>center_id</th>\n      <th>meal_id</th>\n      <th>checkout_price</th>\n      <th>base_price</th>\n      <th>emailer_for_promotion</th>\n      <th>homepage_featured</th>\n      <th>num_orders</th>\n      <th>category</th>\n      <th>cuisine</th>\n      <th>city_code</th>\n      <th>region_code</th>\n      <th>center_type</th>\n      <th>op_area</th>\n      <th>num_orders_cat</th>\n    </tr>\n  </thead>\n  <tbody>\n    <tr>\n      <td>0</td>\n      <td>1379560</td>\n      <td>1</td>\n      <td>55</td>\n      <td>1885</td>\n      <td>136.83</td>\n      <td>152.29</td>\n      <td>0</td>\n      <td>0</td>\n      <td>177</td>\n      <td>Beverages</td>\n      <td>Thai</td>\n      <td>647</td>\n      <td>56</td>\n      <td>TYPE_C</td>\n      <td>2.0</td>\n      <td>Medium</td>\n    </tr>\n    <tr>\n      <td>1</td>\n      <td>1018704</td>\n      <td>2</td>\n      <td>55</td>\n      <td>1885</td>\n      <td>135.83</td>\n      <td>152.29</td>\n      <td>0</td>\n      <td>0</td>\n      <td>323</td>\n      <td>Beverages</td>\n      <td>Thai</td>\n      <td>647</td>\n      <td>56</td>\n      <td>TYPE_C</td>\n      <td>2.0</td>\n      <td>Medium</td>\n    </tr>\n    <tr>\n      <td>2</td>\n      <td>1196273</td>\n      <td>3</td>\n      <td>55</td>\n      <td>1885</td>\n      <td>132.92</td>\n      <td>133.92</td>\n      <td>0</td>\n      <td>0</td>\n      <td>96</td>\n      <td>Beverages</td>\n      <td>Thai</td>\n      <td>647</td>\n      <td>56</td>\n      <td>TYPE_C</td>\n      <td>2.0</td>\n      <td>Low</td>\n    </tr>\n    <tr>\n      <td>3</td>\n      <td>1116527</td>\n      <td>4</td>\n      <td>55</td>\n      <td>1885</td>\n      <td>135.86</td>\n      <td>134.86</td>\n      <td>0</td>\n      <td>0</td>\n      <td>163</td>\n      <td>Beverages</td>\n      <td>Thai</td>\n      <td>647</td>\n      <td>56</td>\n      <td>TYPE_C</td>\n      <td>2.0</td>\n      <td>Medium</td>\n    </tr>\n    <tr>\n      <td>4</td>\n      <td>1343872</td>\n      <td>5</td>\n      <td>55</td>\n      <td>1885</td>\n      <td>146.50</td>\n      <td>147.50</td>\n      <td>0</td>\n      <td>0</td>\n      <td>215</td>\n      <td>Beverages</td>\n      <td>Thai</td>\n      <td>647</td>\n      <td>56</td>\n      <td>TYPE_C</td>\n      <td>2.0</td>\n      <td>Medium</td>\n    </tr>\n  </tbody>\n</table>\n</div>"
     },
     "execution_count": 5,
     "metadata": {},
     "output_type": "execute_result"
    }
   ]
  },
  {
   "metadata": {
    "trusted": true
   },
   "cell_type": "code",
   "source": [
    "data = data_train.groupby(['num_orders_cat'])['num_orders'].sum().reset_index()\n",
    "sns.barplot(x='num_orders_cat', y='num_orders', data=data)"
   ],
   "execution_count": 6,
   "outputs": [
    {
     "data": {
      "text/plain": "<matplotlib.axes._subplots.AxesSubplot at 0x250a396d9c8>"
     },
     "execution_count": 6,
     "metadata": {},
     "output_type": "execute_result"
    },
    {
     "data": {
      "text/plain": "<Figure size 432x288 with 1 Axes>",
      "image/png": "[encoded data removed]"
     },
     "metadata": {
      "needs_background": "light"
     },
     "output_type": "display_data"
    }
   ]
  },
  {
   "metadata": {},
   "cell_type": "markdown",
   "source": [
    "### Num Orders - Category"
   ],
   "execution_count": null
  },
  {
   "metadata": {
    "trusted": true
   },
   "cell_type": "code",
   "source": [
    "data = data_train.groupby(['category'])['num_orders'].sum().reset_index()\n",
    "data"
   ],
   "execution_count": 7,
   "outputs": [
    {
     "data": {
      "text/plain": "        category  num_orders\n0      Beverages    40480525\n1        Biryani      631848\n2         Desert     1940754\n3         Extras     3984979\n4           Fish      871959\n5   Other Snacks     4766293\n6          Pasta     1637744\n7          Pizza     7383720\n8      Rice Bowl    20874063\n9          Salad    10944336\n10      Sandwich    17636782\n11       Seafood     2715714\n12          Soup     1039646\n13      Starters     4649122",
      "text/html": "<div>\n<style scoped>\n    .dataframe tbody tr th:only-of-type {\n        vertical-align: middle;\n    }\n\n    .dataframe tbody tr th {\n        vertical-align: top;\n    }\n\n    .dataframe thead th {\n        text-align: right;\n    }\n</style>\n<table border=\"1\" class=\"dataframe\">\n  <thead>\n    <tr style=\"text-align: right;\">\n      <th></th>\n      <th>category</th>\n      <th>num_orders</th>\n    </tr>\n  </thead>\n  <tbody>\n    <tr>\n      <td>0</td>\n      <td>Beverages</td>\n      <td>40480525</td>\n    </tr>\n    <tr>\n      <td>1</td>\n      <td>Biryani</td>\n      <td>631848</td>\n    </tr>\n    <tr>\n      <td>2</td>\n      <td>Desert</td>\n      <td>1940754</td>\n    </tr>\n    <tr>\n      <td>3</td>\n      <td>Extras</td>\n      <td>3984979</td>\n    </tr>\n    <tr>\n      <td>4</td>\n      <td>Fish</td>\n      <td>871959</td>\n    </tr>\n    <tr>\n      <td>5</td>\n      <td>Other Snacks</td>\n      <td>4766293</td>\n    </tr>\n    <tr>\n      <td>6</td>\n      <td>Pasta</td>\n      <td>1637744</td>\n    </tr>\n    <tr>\n      <td>7</td>\n      <td>Pizza</td>\n      <td>7383720</td>\n    </tr>\n    <tr>\n      <td>8</td>\n      <td>Rice Bowl</td>\n      <td>20874063</td>\n    </tr>\n    <tr>\n      <td>9</td>\n      <td>Salad</td>\n      <td>10944336</td>\n    </tr>\n    <tr>\n      <td>10</td>\n      <td>Sandwich</td>\n      <td>17636782</td>\n    </tr>\n    <tr>\n      <td>11</td>\n      <td>Seafood</td>\n      <td>2715714</td>\n    </tr>\n    <tr>\n      <td>12</td>\n      <td>Soup</td>\n      <td>1039646</td>\n    </tr>\n    <tr>\n      <td>13</td>\n      <td>Starters</td>\n      <td>4649122</td>\n    </tr>\n  </tbody>\n</table>\n</div>"
     },
     "execution_count": 7,
     "metadata": {},
     "output_type": "execute_result"
    }
   ]
  },
  {
   "metadata": {
    "trusted": true
   },
   "cell_type": "code",
   "source": [
    "data['num_orders'].quantile([.33, .67])"
   ],
   "execution_count": 8,
   "outputs": [
    {
     "data": {
      "text/plain": "0.33    2165492.40\n0.67    6624666.17\nName: num_orders, dtype: float64"
     },
     "execution_count": 8,
     "metadata": {},
     "output_type": "execute_result"
    }
   ]
  },
  {
   "metadata": {
    "trusted": true
   },
   "cell_type": "code",
   "source": [
    "def no_cat_cat(no):\n",
    "    if no < 2165492.40:\n",
    "        return 'Low'\n",
    "    elif no < 6624666.17:\n",
    "        return 'Medium'\n",
    "    else:\n",
    "        return 'High'\n",
    "\n",
    "data['num_orders_cat'] = data['num_orders'].apply(no_cat_cat)\n",
    "data.sort_values(by='num_orders', ascending=False)"
   ],
   "execution_count": 9,
   "outputs": [
    {
     "data": {
      "text/plain": "        category  num_orders num_orders_cat\n0      Beverages    40480525           High\n8      Rice Bowl    20874063           High\n10      Sandwich    17636782           High\n9          Salad    10944336           High\n7          Pizza     7383720           High\n5   Other Snacks     4766293         Medium\n13      Starters     4649122         Medium\n3         Extras     3984979         Medium\n11       Seafood     2715714         Medium\n2         Desert     1940754            Low\n6          Pasta     1637744            Low\n12          Soup     1039646            Low\n4           Fish      871959            Low\n1        Biryani      631848            Low",
      "text/html": "<div>\n<style scoped>\n    .dataframe tbody tr th:only-of-type {\n        vertical-align: middle;\n    }\n\n    .dataframe tbody tr th {\n        vertical-align: top;\n    }\n\n    .dataframe thead th {\n        text-align: right;\n    }\n</style>\n<table border=\"1\" class=\"dataframe\">\n  <thead>\n    <tr style=\"text-align: right;\">\n      <th></th>\n      <th>category</th>\n      <th>num_orders</th>\n      <th>num_orders_cat</th>\n    </tr>\n  </thead>\n  <tbody>\n    <tr>\n      <td>0</td>\n      <td>Beverages</td>\n      <td>40480525</td>\n      <td>High</td>\n    </tr>\n    <tr>\n      <td>8</td>\n      <td>Rice Bowl</td>\n      <td>20874063</td>\n      <td>High</td>\n    </tr>\n    <tr>\n      <td>10</td>\n      <td>Sandwich</td>\n      <td>17636782</td>\n      <td>High</td>\n    </tr>\n    <tr>\n      <td>9</td>\n      <td>Salad</td>\n      <td>10944336</td>\n      <td>High</td>\n    </tr>\n    <tr>\n      <td>7</td>\n      <td>Pizza</td>\n      <td>7383720</td>\n      <td>High</td>\n    </tr>\n    <tr>\n      <td>5</td>\n      <td>Other Snacks</td>\n      <td>4766293</td>\n      <td>Medium</td>\n    </tr>\n    <tr>\n      <td>13</td>\n      <td>Starters</td>\n      <td>4649122</td>\n      <td>Medium</td>\n    </tr>\n    <tr>\n      <td>3</td>\n      <td>Extras</td>\n      <td>3984979</td>\n      <td>Medium</td>\n    </tr>\n    <tr>\n      <td>11</td>\n      <td>Seafood</td>\n      <td>2715714</td>\n      <td>Medium</td>\n    </tr>\n    <tr>\n      <td>2</td>\n      <td>Desert</td>\n      <td>1940754</td>\n      <td>Low</td>\n    </tr>\n    <tr>\n      <td>6</td>\n      <td>Pasta</td>\n      <td>1637744</td>\n      <td>Low</td>\n    </tr>\n    <tr>\n      <td>12</td>\n      <td>Soup</td>\n      <td>1039646</td>\n      <td>Low</td>\n    </tr>\n    <tr>\n      <td>4</td>\n      <td>Fish</td>\n      <td>871959</td>\n      <td>Low</td>\n    </tr>\n    <tr>\n      <td>1</td>\n      <td>Biryani</td>\n      <td>631848</td>\n      <td>Low</td>\n    </tr>\n  </tbody>\n</table>\n</div>"
     },
     "execution_count": 9,
     "metadata": {},
     "output_type": "execute_result"
    }
   ]
  },
  {
   "metadata": {},
   "cell_type": "markdown",
   "source": [
    "### Num Orders - Week"
   ],
   "execution_count": null
  },
  {
   "metadata": {
    "trusted": true
   },
   "cell_type": "code",
   "source": [
    "data = data_train.groupby(['week'])['num_orders'].sum().reset_index()\n",
    "data"
   ],
   "execution_count": 10,
   "outputs": [
    {
     "data": {
      "text/plain": "     week  num_orders\n0       1      792261\n1       2      787084\n2       3      695262\n3       4      743529\n4       5     1198675\n..    ...         ...\n140   141      776240\n141   142      739661\n142   143      759926\n143   144      801197\n144   145      671926\n\n[145 rows x 2 columns]",
      "text/html": "<div>\n<style scoped>\n    .dataframe tbody tr th:only-of-type {\n        vertical-align: middle;\n    }\n\n    .dataframe tbody tr th {\n        vertical-align: top;\n    }\n\n    .dataframe thead th {\n        text-align: right;\n    }\n</style>\n<table border=\"1\" class=\"dataframe\">\n  <thead>\n    <tr style=\"text-align: right;\">\n      <th></th>\n      <th>week</th>\n      <th>num_orders</th>\n    </tr>\n  </thead>\n  <tbody>\n    <tr>\n      <td>0</td>\n      <td>1</td>\n      <td>792261</td>\n    </tr>\n    <tr>\n      <td>1</td>\n      <td>2</td>\n      <td>787084</td>\n    </tr>\n    <tr>\n      <td>2</td>\n      <td>3</td>\n      <td>695262</td>\n    </tr>\n    <tr>\n      <td>3</td>\n      <td>4</td>\n      <td>743529</td>\n    </tr>\n    <tr>\n      <td>4</td>\n      <td>5</td>\n      <td>1198675</td>\n    </tr>\n    <tr>\n      <td>...</td>\n      <td>...</td>\n      <td>...</td>\n    </tr>\n    <tr>\n      <td>140</td>\n      <td>141</td>\n      <td>776240</td>\n    </tr>\n    <tr>\n      <td>141</td>\n      <td>142</td>\n      <td>739661</td>\n    </tr>\n    <tr>\n      <td>142</td>\n      <td>143</td>\n      <td>759926</td>\n    </tr>\n    <tr>\n      <td>143</td>\n      <td>144</td>\n      <td>801197</td>\n    </tr>\n    <tr>\n      <td>144</td>\n      <td>145</td>\n      <td>671926</td>\n    </tr>\n  </tbody>\n</table>\n<p>145 rows × 2 columns</p>\n</div>"
     },
     "execution_count": 10,
     "metadata": {},
     "output_type": "execute_result"
    }
   ]
  },
  {
   "metadata": {
    "trusted": true
   },
   "cell_type": "code",
   "source": [
    "sns.lineplot(x='week', y='num_orders', data=data)"
   ],
   "execution_count": 11,
   "outputs": [
    {
     "data": {
      "text/plain": "<matplotlib.axes._subplots.AxesSubplot at 0x250a39fd448>"
     },
     "execution_count": 11,
     "metadata": {},
     "output_type": "execute_result"
    },
    {
     "data": {
      "text/plain": "<Figure size 432x288 with 1 Axes>",
      "image/png": "[encoded data removed]"
     },
     "metadata": {
      "needs_background": "light"
     },
     "output_type": "display_data"
    }
   ]
  },
  {
   "metadata": {},
   "cell_type": "markdown",
   "source": [
    "### Num Orders - Fulfilment Center per Region"
   ],
   "execution_count": null
  },
  {
   "metadata": {
    "trusted": true
   },
   "cell_type": "code",
   "source": [
    "data = data_train.groupby(['region_code'])['num_orders'].sum().reset_index()\n",
    "data.head()"
   ],
   "execution_count": 12,
   "outputs": [
    {
     "data": {
      "text/plain": "   region_code  num_orders\n0           23     1609906\n1           34    24051733\n2           35      691044\n3           56    60520191\n4           71     2103282",
      "text/html": "<div>\n<style scoped>\n    .dataframe tbody tr th:only-of-type {\n        vertical-align: middle;\n    }\n\n    .dataframe tbody tr th {\n        vertical-align: top;\n    }\n\n    .dataframe thead th {\n        text-align: right;\n    }\n</style>\n<table border=\"1\" class=\"dataframe\">\n  <thead>\n    <tr style=\"text-align: right;\">\n      <th></th>\n      <th>region_code</th>\n      <th>num_orders</th>\n    </tr>\n  </thead>\n  <tbody>\n    <tr>\n      <td>0</td>\n      <td>23</td>\n      <td>1609906</td>\n    </tr>\n    <tr>\n      <td>1</td>\n      <td>34</td>\n      <td>24051733</td>\n    </tr>\n    <tr>\n      <td>2</td>\n      <td>35</td>\n      <td>691044</td>\n    </tr>\n    <tr>\n      <td>3</td>\n      <td>56</td>\n      <td>60520191</td>\n    </tr>\n    <tr>\n      <td>4</td>\n      <td>71</td>\n      <td>2103282</td>\n    </tr>\n  </tbody>\n</table>\n</div>"
     },
     "execution_count": 12,
     "metadata": {},
     "output_type": "execute_result"
    }
   ]
  },
  {
   "metadata": {
    "trusted": true
   },
   "cell_type": "code",
   "source": [
    "sns.lineplot(x='region_code', y='num_orders', data=data)"
   ],
   "execution_count": 13,
   "outputs": [
    {
     "data": {
      "text/plain": "<matplotlib.axes._subplots.AxesSubplot at 0x250a3b9c488>"
     },
     "execution_count": 13,
     "metadata": {},
     "output_type": "execute_result"
    },
    {
     "data": {
      "text/plain": "<Figure size 432x288 with 1 Axes>",
      "image/png": "[encoded data removed]"
     },
     "metadata": {
      "needs_background": "light"
     },
     "output_type": "display_data"
    }
   ]
  },
  {
   "metadata": {},
   "cell_type": "markdown",
   "source": [
    "### Fulfilment center data"
   ],
   "execution_count": null
  },
  {
   "metadata": {
    "trusted": true
   },
   "cell_type": "code",
   "source": [
    "sns.factorplot(x='center_type', kind='count', data=data_center)"
   ],
   "execution_count": 14,
   "outputs": [
    {
     "data": {
      "text/plain": "<seaborn.axisgrid.FacetGrid at 0x250a3c09f88>"
     },
     "execution_count": 14,
     "metadata": {},
     "output_type": "execute_result"
    },
    {
     "data": {
      "text/plain": "<Figure size 360x360 with 1 Axes>",
      "image/png": "[encoded data removed]"
     },
     "metadata": {
      "needs_background": "light"
     },
     "output_type": "display_data"
    }
   ]
  },
  {
   "metadata": {
    "trusted": true
   },
   "cell_type": "code",
   "source": [
    "sns.distplot(data_center.op_area)"
   ],
   "execution_count": 15,
   "outputs": [
    {
     "data": {
      "text/plain": "<matplotlib.axes._subplots.AxesSubplot at 0x250a3c56388>"
     },
     "execution_count": 15,
     "metadata": {},
     "output_type": "execute_result"
    },
    {
     "data": {
      "text/plain": "<Figure size 432x288 with 1 Axes>",
      "image/png": "[encoded data removed]"
     },
     "metadata": {
      "needs_background": "light"
     },
     "output_type": "display_data"
    }
   ]
  },
  {
   "metadata": {
    "trusted": true
   },
   "cell_type": "code",
   "source": [
    "sns.factorplot(x='region_code', kind='count', hue='center_type', data=data_center)"
   ],
   "execution_count": 16,
   "outputs": [
    {
     "data": {
      "text/plain": "<seaborn.axisgrid.FacetGrid at 0x250a3c3ee88>"
     },
     "execution_count": 16,
     "metadata": {},
     "output_type": "execute_result"
    },
    {
     "data": {
      "text/plain": "<Figure size 439.5x360 with 1 Axes>",
      "image/png": "[encoded data removed]"
     },
     "metadata": {
      "needs_background": "light"
     },
     "output_type": "display_data"
    }
   ]
  },
  {
   "metadata": {},
   "cell_type": "markdown",
   "source": [
    "### Jumlah per Featured on main page"
   ],
   "execution_count": null
  },
  {
   "metadata": {
    "trusted": true
   },
   "cell_type": "code",
   "source": [
    "sns.factorplot(x='homepage_featured', kind='count', data=data_train)"
   ],
   "execution_count": 17,
   "outputs": [
    {
     "data": {
      "text/plain": "<seaborn.axisgrid.FacetGrid at 0x250a3db04c8>"
     },
     "execution_count": 17,
     "metadata": {},
     "output_type": "execute_result"
    },
    {
     "data": {
      "text/plain": "<Figure size 360x360 with 1 Axes>",
      "image/png": "[encoded data removed]"
     },
     "metadata": {
      "needs_background": "light"
     },
     "output_type": "display_data"
    }
   ]
  },
  {
   "metadata": {
    "trusted": true
   },
   "cell_type": "code",
   "source": [
    "sns"
   ],
   "execution_count": 18,
   "outputs": [
    {
     "data": {
      "text/plain": "<module 'seaborn' from 'E:\\\\Anaconda_Python\\\\lib\\\\site-packages\\\\seaborn\\\\__init__.py'>"
     },
     "execution_count": 18,
     "metadata": {},
     "output_type": "execute_result"
    }
   ]
  },
  {
   "metadata": {},
   "cell_type": "markdown",
   "source": [
    "### Jumlah per Email promotion"
   ],
   "execution_count": null
  },
  {
   "metadata": {
    "trusted": true
   },
   "cell_type": "code",
   "source": [
    "sns.factorplot(x='emailer_for_promotion', kind='count', data=data_train)"
   ],
   "execution_count": 19,
   "outputs": [
    {
     "data": {
      "text/plain": "<seaborn.axisgrid.FacetGrid at 0x250a3dc2848>"
     },
     "execution_count": 19,
     "metadata": {},
     "output_type": "execute_result"
    },
    {
     "data": {
      "text/plain": "<Figure size 360x360 with 1 Axes>",
      "image/png": "[encoded data removed]"
     },
     "metadata": {
      "needs_background": "light"
     },
     "output_type": "display_data"
    }
   ]
  },
  {
   "metadata": {},
   "cell_type": "markdown",
   "source": [
    "# Preprocessing"
   ],
   "execution_count": null
  },
  {
   "metadata": {
    "trusted": true
   },
   "cell_type": "code",
   "source": [
    "data_train = pd.read_csv('kaggle/input/av-genpact-hack-dec2018/train.csv')\n",
    "data_test = pd.read_csv('kaggle/input/av-genpact-hack-dec2018/test.csv')\n",
    "\n",
    "data_train.head()"
   ],
   "execution_count": 20,
   "outputs": [
    {
     "data": {
      "text/plain": "        id  week  center_id  meal_id  checkout_price  base_price  \\\n0  1379560     1         55     1885          136.83      152.29   \n1  1466964     1         55     1993          136.83      135.83   \n2  1346989     1         55     2539          134.86      135.86   \n3  1338232     1         55     2139          339.50      437.53   \n4  1448490     1         55     2631          243.50      242.50   \n\n   emailer_for_promotion  homepage_featured  num_orders  \n0                      0                  0         177  \n1                      0                  0         270  \n2                      0                  0         189  \n3                      0                  0          54  \n4                      0                  0          40  ",
      "text/html": "<div>\n<style scoped>\n    .dataframe tbody tr th:only-of-type {\n        vertical-align: middle;\n    }\n\n    .dataframe tbody tr th {\n        vertical-align: top;\n    }\n\n    .dataframe thead th {\n        text-align: right;\n    }\n</style>\n<table border=\"1\" class=\"dataframe\">\n  <thead>\n    <tr style=\"text-align: right;\">\n      <th></th>\n      <th>id</th>\n      <th>week</th>\n      <th>center_id</th>\n      <th>meal_id</th>\n      <th>checkout_price</th>\n      <th>base_price</th>\n      <th>emailer_for_promotion</th>\n      <th>homepage_featured</th>\n      <th>num_orders</th>\n    </tr>\n  </thead>\n  <tbody>\n    <tr>\n      <td>0</td>\n      <td>1379560</td>\n      <td>1</td>\n      <td>55</td>\n      <td>1885</td>\n      <td>136.83</td>\n      <td>152.29</td>\n      <td>0</td>\n      <td>0</td>\n      <td>177</td>\n    </tr>\n    <tr>\n      <td>1</td>\n      <td>1466964</td>\n      <td>1</td>\n      <td>55</td>\n      <td>1993</td>\n      <td>136.83</td>\n      <td>135.83</td>\n      <td>0</td>\n      <td>0</td>\n      <td>270</td>\n    </tr>\n    <tr>\n      <td>2</td>\n      <td>1346989</td>\n      <td>1</td>\n      <td>55</td>\n      <td>2539</td>\n      <td>134.86</td>\n      <td>135.86</td>\n      <td>0</td>\n      <td>0</td>\n      <td>189</td>\n    </tr>\n    <tr>\n      <td>3</td>\n      <td>1338232</td>\n      <td>1</td>\n      <td>55</td>\n      <td>2139</td>\n      <td>339.50</td>\n      <td>437.53</td>\n      <td>0</td>\n      <td>0</td>\n      <td>54</td>\n    </tr>\n    <tr>\n      <td>4</td>\n      <td>1448490</td>\n      <td>1</td>\n      <td>55</td>\n      <td>2631</td>\n      <td>243.50</td>\n      <td>242.50</td>\n      <td>0</td>\n      <td>0</td>\n      <td>40</td>\n    </tr>\n  </tbody>\n</table>\n</div>"
     },
     "execution_count": 20,
     "metadata": {},
     "output_type": "execute_result"
    }
   ]
  },
  {
   "metadata": {
    "trusted": true
   },
   "cell_type": "code",
   "source": [
    "data_test.head()"
   ],
   "execution_count": 21,
   "outputs": [
    {
     "data": {
      "text/plain": "        id  week  center_id  meal_id  checkout_price  base_price  \\\n0  1028232   146         55     1885          158.11      159.11   \n1  1127204   146         55     1993          160.11      159.11   \n2  1212707   146         55     2539          157.14      159.14   \n3  1082698   146         55     2631          162.02      162.02   \n4  1400926   146         55     1248          163.93      163.93   \n\n   emailer_for_promotion  homepage_featured  \n0                      0                  0  \n1                      0                  0  \n2                      0                  0  \n3                      0                  0  \n4                      0                  0  ",
      "text/html": "<div>\n<style scoped>\n    .dataframe tbody tr th:only-of-type {\n        vertical-align: middle;\n    }\n\n    .dataframe tbody tr th {\n        vertical-align: top;\n    }\n\n    .dataframe thead th {\n        text-align: right;\n    }\n</style>\n<table border=\"1\" class=\"dataframe\">\n  <thead>\n    <tr style=\"text-align: right;\">\n      <th></th>\n      <th>id</th>\n      <th>week</th>\n      <th>center_id</th>\n      <th>meal_id</th>\n      <th>checkout_price</th>\n      <th>base_price</th>\n      <th>emailer_for_promotion</th>\n      <th>homepage_featured</th>\n    </tr>\n  </thead>\n  <tbody>\n    <tr>\n      <td>0</td>\n      <td>1028232</td>\n      <td>146</td>\n      <td>55</td>\n      <td>1885</td>\n      <td>158.11</td>\n      <td>159.11</td>\n      <td>0</td>\n      <td>0</td>\n    </tr>\n    <tr>\n      <td>1</td>\n      <td>1127204</td>\n      <td>146</td>\n      <td>55</td>\n      <td>1993</td>\n      <td>160.11</td>\n      <td>159.11</td>\n      <td>0</td>\n      <td>0</td>\n    </tr>\n    <tr>\n      <td>2</td>\n      <td>1212707</td>\n      <td>146</td>\n      <td>55</td>\n      <td>2539</td>\n      <td>157.14</td>\n      <td>159.14</td>\n      <td>0</td>\n      <td>0</td>\n    </tr>\n    <tr>\n      <td>3</td>\n      <td>1082698</td>\n      <td>146</td>\n      <td>55</td>\n      <td>2631</td>\n      <td>162.02</td>\n      <td>162.02</td>\n      <td>0</td>\n      <td>0</td>\n    </tr>\n    <tr>\n      <td>4</td>\n      <td>1400926</td>\n      <td>146</td>\n      <td>55</td>\n      <td>1248</td>\n      <td>163.93</td>\n      <td>163.93</td>\n      <td>0</td>\n      <td>0</td>\n    </tr>\n  </tbody>\n</table>\n</div>"
     },
     "execution_count": 21,
     "metadata": {},
     "output_type": "execute_result"
    }
   ]
  },
  {
   "metadata": {},
   "cell_type": "markdown",
   "source": [
    "# Prediction"
   ],
   "execution_count": null
  },
  {
   "metadata": {
    "trusted": true
   },
   "cell_type": "code",
   "source": [
    "X_train = data_train.drop('num_orders', axis=1).fillna(0)\n",
    "y_train = data_train['num_orders']\n",
    "X_test = data_test.copy()\n",
    "X_train.shape, y_train.shape, X_test.shape"
   ],
   "execution_count": 22,
   "outputs": [
    {
     "data": {
      "text/plain": "((456548, 8), (456548,), (32573, 8))"
     },
     "execution_count": 22,
     "metadata": {},
     "output_type": "execute_result"
    }
   ]
  },
  {
   "metadata": {},
   "cell_type": "markdown",
   "source": [
    "### Light GBM"
   ],
   "execution_count": null
  },
  {
   "metadata": {
    "trusted": true
   },
   "cell_type": "code",
   "source": [
    "kfold = KFold(n_splits=5, shuffle = True)\n",
    "model_lgb = lgb.LGBMRegressor()\n",
    "model_lgb.fit(X_train, y_train)\n",
    "y_pred_lgb = model_lgb.predict(X_test)\n",
    "acc_lgb = round(r2_score(model_lgb.predict(X_train), y_train) * 100, 2)\n",
    "acc_lgb"
   ],
   "execution_count": 23,
   "outputs": [
    {
     "data": {
      "text/plain": "61.1"
     },
     "execution_count": 23,
     "metadata": {},
     "output_type": "execute_result"
    }
   ]
  },
  {
   "cell_type": "markdown",
   "source": [
    "### XGBoost"
   ],
   "metadata": {
    "collapsed": false,
    "pycharm": {
     "name": "#%% md\n"
    }
   }
  },
  {
   "cell_type": "code",
   "execution_count": 24,
   "outputs": [
    {
     "data": {
      "text/plain": "77.55"
     },
     "execution_count": 24,
     "metadata": {},
     "output_type": "execute_result"
    }
   ],
   "source": [
    "model_xgb = xgb.XGBRegressor()\n",
    "model_xgb.fit(X_train, y_train)\n",
    "y_pred_xgb = model_xgb.predict(X_test)\n",
    "acc_xgb = round(r2_score(model_xgb.predict(X_train), y_train) * 100, 2)\n",
    "acc_xgb"
   ],
   "metadata": {
    "collapsed": false,
    "pycharm": {
     "name": "#%%\n"
    }
   }
  },
  {
   "cell_type": "markdown",
   "source": [
    "# Result"
   ],
   "metadata": {
    "collapsed": false,
    "pycharm": {
     "name": "#%% md\n"
    }
   }
  },
  {
   "cell_type": "code",
   "execution_count": 25,
   "outputs": [
    {
     "data": {
      "text/plain": "       Model  Score\n1    XGBoost  77.55\n0  Light GBM  61.10",
      "text/html": "<div>\n<style scoped>\n    .dataframe tbody tr th:only-of-type {\n        vertical-align: middle;\n    }\n\n    .dataframe tbody tr th {\n        vertical-align: top;\n    }\n\n    .dataframe thead th {\n        text-align: right;\n    }\n</style>\n<table border=\"1\" class=\"dataframe\">\n  <thead>\n    <tr style=\"text-align: right;\">\n      <th></th>\n      <th>Model</th>\n      <th>Score</th>\n    </tr>\n  </thead>\n  <tbody>\n    <tr>\n      <td>1</td>\n      <td>XGBoost</td>\n      <td>77.55</td>\n    </tr>\n    <tr>\n      <td>0</td>\n      <td>Light GBM</td>\n      <td>61.10</td>\n    </tr>\n  </tbody>\n</table>\n</div>"
     },
     "execution_count": 25,
     "metadata": {},
     "output_type": "execute_result"
    }
   ],
   "source": [
    "models = pd.DataFrame({\n",
    "    'Model': ['Light GBM', 'XGBoost'],\n",
    "    'Score': [acc_lgb, acc_xgb]})\n",
    "models.sort_values(by='Score', ascending=False)"
   ],
   "metadata": {
    "collapsed": false,
    "pycharm": {
     "name": "#%%\n"
    }
   }
  },
  {
   "cell_type": "code",
   "source": [
    "data_test['Num Orders'] = y_pred_xgb\n",
    "data_test.head()"
   ],
   "metadata": {
    "collapsed": false,
    "pycharm": {
     "name": "#%%\n"
    }
   },
   "execution_count": 26,
   "outputs": [
    {
     "data": {
      "text/plain": "        id  week  center_id  meal_id  checkout_price  base_price  \\\n0  1028232   146         55     1885          158.11      159.11   \n1  1127204   146         55     1993          160.11      159.11   \n2  1212707   146         55     2539          157.14      159.14   \n3  1082698   146         55     2631          162.02      162.02   \n4  1400926   146         55     1248          163.93      163.93   \n\n   emailer_for_promotion  homepage_featured  Num Orders  \n0                      0                  0  673.465698  \n1                      0                  0  213.210968  \n2                      0                  0  118.534019  \n3                      0                  0  -55.664871  \n4                      0                  0  -50.646488  ",
      "text/html": "<div>\n<style scoped>\n    .dataframe tbody tr th:only-of-type {\n        vertical-align: middle;\n    }\n\n    .dataframe tbody tr th {\n        vertical-align: top;\n    }\n\n    .dataframe thead th {\n        text-align: right;\n    }\n</style>\n<table border=\"1\" class=\"dataframe\">\n  <thead>\n    <tr style=\"text-align: right;\">\n      <th></th>\n      <th>id</th>\n      <th>week</th>\n      <th>center_id</th>\n      <th>meal_id</th>\n      <th>checkout_price</th>\n      <th>base_price</th>\n      <th>emailer_for_promotion</th>\n      <th>homepage_featured</th>\n      <th>Num Orders</th>\n    </tr>\n  </thead>\n  <tbody>\n    <tr>\n      <td>0</td>\n      <td>1028232</td>\n      <td>146</td>\n      <td>55</td>\n      <td>1885</td>\n      <td>158.11</td>\n      <td>159.11</td>\n      <td>0</td>\n      <td>0</td>\n      <td>673.465698</td>\n    </tr>\n    <tr>\n      <td>1</td>\n      <td>1127204</td>\n      <td>146</td>\n      <td>55</td>\n      <td>1993</td>\n      <td>160.11</td>\n      <td>159.11</td>\n      <td>0</td>\n      <td>0</td>\n      <td>213.210968</td>\n    </tr>\n    <tr>\n      <td>2</td>\n      <td>1212707</td>\n      <td>146</td>\n      <td>55</td>\n      <td>2539</td>\n      <td>157.14</td>\n      <td>159.14</td>\n      <td>0</td>\n      <td>0</td>\n      <td>118.534019</td>\n    </tr>\n    <tr>\n      <td>3</td>\n      <td>1082698</td>\n      <td>146</td>\n      <td>55</td>\n      <td>2631</td>\n      <td>162.02</td>\n      <td>162.02</td>\n      <td>0</td>\n      <td>0</td>\n      <td>-55.664871</td>\n    </tr>\n    <tr>\n      <td>4</td>\n      <td>1400926</td>\n      <td>146</td>\n      <td>55</td>\n      <td>1248</td>\n      <td>163.93</td>\n      <td>163.93</td>\n      <td>0</td>\n      <td>0</td>\n      <td>-50.646488</td>\n    </tr>\n  </tbody>\n</table>\n</div>"
     },
     "execution_count": 26,
     "metadata": {},
     "output_type": "execute_result"
    }
   ]
  }
 ],
 "metadata": {
  "kernelspec": {
   "language": "python",
   "display_name": "Python 3",
   "name": "python3"
  },
  "language_info": {
   "pygments_lexer": "ipython3",
   "nbconvert_exporter": "python",
   "version": "3.6.4",
   "file_extension": ".py",
   "codemirror_mode": {
    "name": "ipython",
    "version": 3
   },
   "name": "python",
   "mimetype": "text/x-python"
  }
 },
 "nbformat": 4,
 "nbformat_minor": 4
}